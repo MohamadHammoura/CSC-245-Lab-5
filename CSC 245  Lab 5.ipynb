{
 "cells": [
  {
   "cell_type": "code",
   "execution_count": 11,
   "id": "379b47f6",
   "metadata": {
    "scrolled": false
   },
   "outputs": [
    {
     "name": "stdout",
     "output_type": "stream",
     "text": [
      "<class 'pandas.core.frame.DataFrame'>\n",
      "RangeIndex: 891 entries, 0 to 890\n",
      "Data columns (total 16 columns):\n",
      " #   Column       Non-Null Count  Dtype  \n",
      "---  ------       --------------  -----  \n",
      " 0   survived     891 non-null    int64  \n",
      " 1   pclass       891 non-null    int64  \n",
      " 2   sex          891 non-null    object \n",
      " 3   age          714 non-null    float64\n",
      " 4   sibsp        891 non-null    int64  \n",
      " 5   parch        891 non-null    int64  \n",
      " 6   fare         891 non-null    float64\n",
      " 7   embarked     889 non-null    object \n",
      " 8   class        891 non-null    object \n",
      " 9   who          891 non-null    object \n",
      " 10  adult_male   891 non-null    bool   \n",
      " 11  deck         203 non-null    object \n",
      " 12  embark_town  889 non-null    object \n",
      " 13  alive        891 non-null    object \n",
      " 14  alone        891 non-null    bool   \n",
      " 15  Unnamed: 15  0 non-null      float64\n",
      "dtypes: bool(2), float64(3), int64(4), object(7)\n",
      "memory usage: 99.3+ KB\n",
      "None\n"
     ]
    }
   ],
   "source": [
    "#1\n",
    "import pandas as pd\n",
    "\n",
    "titanic_df = pd.read_csv(\"titanic.csv\")\n",
    "print(titanic_df.info())"
   ]
  },
  {
   "cell_type": "code",
   "execution_count": 1,
   "id": "59b3e518",
   "metadata": {
    "scrolled": true
   },
   "outputs": [
    {
     "name": "stdout",
     "output_type": "stream",
     "text": [
      "Column Labels:\n",
      "['survived', 'pclass', 'sex', 'age', 'sibsp', 'parch', 'fare', 'embarked', 'class', 'who', 'adult_male', 'deck', 'embark_town', 'alive', 'alone', 'Unnamed: 15']\n",
      "\n",
      "Data Shape:\n",
      "(891, 16)\n",
      "\n",
      "Data Types:\n",
      "survived         int64\n",
      "pclass           int64\n",
      "sex             object\n",
      "age            float64\n",
      "sibsp            int64\n",
      "parch            int64\n",
      "fare           float64\n",
      "embarked        object\n",
      "class           object\n",
      "who             object\n",
      "adult_male        bool\n",
      "deck            object\n",
      "embark_town     object\n",
      "alive           object\n",
      "alone             bool\n",
      "Unnamed: 15    float64\n",
      "dtype: object\n"
     ]
    }
   ],
   "source": [
    "#2\n",
    "import pandas as pd\n",
    "\n",
    "# Read the Titanic dataset from CSV file\n",
    "titanic_df = pd.read_csv('titanic.csv')\n",
    "\n",
    "# Extract column labels\n",
    "column_labels = titanic_df.columns.tolist()\n",
    "\n",
    "# Get the shape of the dataset\n",
    "data_shape = titanic_df.shape\n",
    "\n",
    "# Get data types of the columns\n",
    "data_types = titanic_df.dtypes\n",
    "\n",
    "# Print column labels\n",
    "print(\"Column Labels:\")\n",
    "print(column_labels)\n",
    "\n",
    "# Print shape of the dataset\n",
    "print(\"\\nData Shape:\")\n",
    "print(data_shape)\n",
    "\n",
    "# Print data types of the columns\n",
    "print(\"\\nData Types:\")\n",
    "print(data_types)\n"
   ]
  },
  {
   "cell_type": "code",
   "execution_count": null,
   "id": "e327471f",
   "metadata": {},
   "outputs": [],
   "source": [
    "#3\n",
    "import pandas as pd\n",
    "\n",
    "# Read the Titanic dataset from CSV file\n",
    "titanic_df = pd.read_csv('titanic.csv')\n",
    "\n",
    "# Create a pivot table with multiple indexes\n",
    "pivot_table = titanic_df.pivot_table(index=['Sex', 'Pclass'], aggfunc={'Age': 'mean', 'Fare': 'mean'})\n",
    "\n",
    "# Print the pivot table\n",
    "print(\"Pivot Table with Multiple Indexes:\")\n",
    "print(pivot_table)\n"
   ]
  },
  {
   "cell_type": "code",
   "execution_count": 8,
   "id": "9ec32b57",
   "metadata": {},
   "outputs": [
    {
     "name": "stdout",
     "output_type": "stream",
     "text": [
      "Survival rate by gender on various classes:\n",
      "class      First    Second     Third\n",
      "sex                                 \n",
      "female  0.968085  0.921053  0.500000\n",
      "male    0.368852  0.157407  0.135447\n"
     ]
    }
   ],
   "source": [
    "#4\n",
    "import pandas as pd\n",
    "\n",
    "# Read the CSV file into a DataFrame\n",
    "df = pd.read_csv(\"Titanic.csv\")\n",
    "\n",
    "# Create a pivot table to find survival rate by gender on various classes\n",
    "pivot_table = df.pivot_table(index='sex', columns='class', values='survived', aggfunc='mean')\n",
    "\n",
    "print(\"Survival rate by gender on various classes:\")\n",
    "print(pivot_table)\n"
   ]
  },
  {
   "cell_type": "code",
   "execution_count": 9,
   "id": "e8fb53fa",
   "metadata": {},
   "outputs": [
    {
     "name": "stdout",
     "output_type": "stream",
     "text": [
      "Survival rate by gender:\n",
      "        survived\n",
      "sex             \n",
      "female  0.742038\n",
      "male    0.188908\n"
     ]
    }
   ],
   "source": [
    "#5\n",
    "import pandas as pd\n",
    "\n",
    "# Read the CSV file into a DataFrame\n",
    "df = pd.read_csv(\"Titanic.csv\")\n",
    "\n",
    "# Create a pivot table to find survival rate by gender\n",
    "pivot_table = df.pivot_table(index='sex', values='survived', aggfunc='mean')\n",
    "\n",
    "print(\"Survival rate by gender:\")\n",
    "print(pivot_table)\n"
   ]
  },
  {
   "cell_type": "code",
   "execution_count": 10,
   "id": "5fb66332",
   "metadata": {},
   "outputs": [
    {
     "name": "stdout",
     "output_type": "stream",
     "text": [
      "Survival rate by gender and age wise of various classes:\n",
      "class         First  Second  Third\n",
      "sex    age                        \n",
      "female 0.75     NaN     NaN   1.00\n",
      "       1.00     NaN     NaN   1.00\n",
      "       2.00     0.0     1.0   0.25\n",
      "       3.00     NaN     1.0   0.00\n",
      "       4.00     NaN     1.0   1.00\n",
      "...             ...     ...    ...\n",
      "male   70.00    0.0     0.0    NaN\n",
      "       70.50    NaN     NaN   0.00\n",
      "       71.00    0.0     NaN    NaN\n",
      "       74.00    NaN     NaN   0.00\n",
      "       80.00    1.0     NaN    NaN\n",
      "\n",
      "[145 rows x 3 columns]\n"
     ]
    }
   ],
   "source": [
    "#6\n",
    "import pandas as pd\n",
    "\n",
    "# Read the CSV file into a DataFrame\n",
    "df = pd.read_csv(\"Titanic.csv\")\n",
    "\n",
    "# Create a pivot table to find survival rate by gender, age wise of various classes\n",
    "pivot_table = df.pivot_table(index=['sex', 'age'], columns='class', values='survived', aggfunc='mean')\n",
    "\n",
    "print(\"Survival rate by gender and age wise of various classes:\")\n",
    "print(pivot_table)\n"
   ]
  },
  {
   "cell_type": "code",
   "execution_count": 11,
   "id": "27abdeee",
   "metadata": {},
   "outputs": [
    {
     "name": "stdout",
     "output_type": "stream",
     "text": [
      "Passengers partitioned into four categories based on their age:\n",
      "      age age_category\n",
      "0    22.0     (10, 30)\n",
      "1    38.0     (30, 60)\n",
      "2    26.0     (10, 30)\n",
      "3    35.0     (30, 60)\n",
      "4    35.0     (30, 60)\n",
      "..    ...          ...\n",
      "886  27.0     (10, 30)\n",
      "887  19.0     (10, 30)\n",
      "888   NaN          NaN\n",
      "889  26.0     (10, 30)\n",
      "890  32.0     (30, 60)\n",
      "\n",
      "[891 rows x 2 columns]\n"
     ]
    }
   ],
   "source": [
    "#7\n",
    "import pandas as pd\n",
    "\n",
    "# Read the CSV file into a DataFrame\n",
    "df = pd.read_csv(\"Titanic.csv\")\n",
    "\n",
    "# Define the age categories\n",
    "age_categories = pd.cut(df['age'], bins=[0, 10, 30, 60, 80], labels=['(0, 10)', '(10, 30)', '(30, 60)', '(60, 80)'])\n",
    "\n",
    "# Add the age category column to the DataFrame\n",
    "df['age_category'] = age_categories\n",
    "\n",
    "# Display the DataFrame with age categories\n",
    "print(\"Passengers partitioned into four categories based on their age:\")\n",
    "print(df[['age', 'age_category']])\n"
   ]
  },
  {
   "cell_type": "code",
   "execution_count": 12,
   "id": "26c1237f",
   "metadata": {},
   "outputs": [
    {
     "name": "stdout",
     "output_type": "stream",
     "text": [
      "Survival count by gender and categories wise age of various classes:\n",
      "class                First  Second  Third\n",
      "sex    age_category                      \n",
      "female (0, 10)           0       8     11\n",
      "       (10, 30)         33      33     29\n",
      "       (30, 60)         47      27      6\n",
      "       (60, 80)          2       0      1\n",
      "male   (0, 10)           2       9      8\n",
      "       (10, 30)         11       1     21\n",
      "       (30, 60)         26       4      9\n",
      "       (60, 80)          1       1      0\n"
     ]
    }
   ],
   "source": [
    "#8\n",
    "import pandas as pd\n",
    "\n",
    "# Read the CSV file into a DataFrame\n",
    "df = pd.read_csv(\"Titanic.csv\")\n",
    "\n",
    "# Define the age categories\n",
    "age_categories = pd.cut(df['age'], bins=[0, 10, 30, 60, 80], labels=['(0, 10)', '(10, 30)', '(30, 60)', '(60, 80)'])\n",
    "\n",
    "# Add the age category column to the DataFrame\n",
    "df['age_category'] = age_categories\n",
    "\n",
    "# Create a pivot table to count survival by gender, categories wise age of various classes\n",
    "pivot_table = df.pivot_table(index=['sex', 'age_category'], columns='class', values='survived', aggfunc='sum')\n",
    "\n",
    "print(\"Survival count by gender and categories wise age of various classes:\")\n",
    "print(pivot_table)\n"
   ]
  },
  {
   "cell_type": "code",
   "execution_count": 13,
   "id": "375f3a7a",
   "metadata": {},
   "outputs": [
    {
     "name": "stdout",
     "output_type": "stream",
     "text": [
      "Survival rate by gender and age of different categories of various classes:\n",
      "class                   First    Second     Third\n",
      "sex    age_category                              \n",
      "female (0, 10)       0.000000  1.000000  0.500000\n",
      "       (10, 30)      0.970588  0.916667  0.508772\n",
      "       (30, 60)      0.979167  0.900000  0.272727\n",
      "       (60, 80)      1.000000       NaN  1.000000\n",
      "male   (0, 10)       1.000000  1.000000  0.363636\n",
      "       (10, 30)      0.458333  0.023256  0.139073\n",
      "       (30, 60)      0.412698  0.090909  0.118421\n",
      "       (60, 80)      0.083333  0.333333  0.000000\n"
     ]
    }
   ],
   "source": [
    "#9\n",
    "import pandas as pd\n",
    "\n",
    "# Read the CSV file into a DataFrame\n",
    "df = pd.read_csv(\"Titanic.csv\")\n",
    "\n",
    "# Define the age categories\n",
    "age_categories = pd.cut(df['age'], bins=[0, 10, 30, 60, 80], labels=['(0, 10)', '(10, 30)', '(30, 60)', '(60, 80)'])\n",
    "\n",
    "# Add the age category column to the DataFrame\n",
    "df['age_category'] = age_categories\n",
    "\n",
    "# Create a pivot table to find survival rate by gender, age of different categories of various classes\n",
    "pivot_table = df.pivot_table(index=['sex', 'age_category'], columns='class', values='survived', aggfunc='mean')\n",
    "\n",
    "print(\"Survival rate by gender and age of different categories of various classes:\")\n",
    "print(pivot_table)\n"
   ]
  },
  {
   "cell_type": "code",
   "execution_count": 14,
   "id": "825871e9",
   "metadata": {},
   "outputs": [
    {
     "name": "stdout",
     "output_type": "stream",
     "text": [
      "Survival rate by gender, age, and fare categories of different classes:\n",
      "class                   First              Second     Third\n",
      "fare_category        Low Fare High Fare  Low Fare  Low Fare\n",
      "sex    age_category                                        \n",
      "female (0, 10)       0.000000       NaN  1.000000  0.500000\n",
      "       (10, 30)      0.966667       1.0  0.916667  0.508772\n",
      "       (30, 60)      0.978723       1.0  0.900000  0.272727\n",
      "       (60, 80)      1.000000       NaN       NaN  1.000000\n",
      "male   (0, 10)       1.000000       NaN  1.000000  0.363636\n",
      "       (10, 30)      0.478261       0.0  0.023256  0.139073\n",
      "       (30, 60)      0.393443       1.0  0.090909  0.118421\n",
      "       (60, 80)      0.090909       0.0  0.333333  0.000000\n"
     ]
    }
   ],
   "source": [
    "#10\n",
    "import pandas as pd\n",
    "\n",
    "# Read the CSV file into a DataFrame\n",
    "df = pd.read_csv(\"Titanic.csv\")\n",
    "\n",
    "# Define the age categories\n",
    "age_categories = pd.cut(df['age'], bins=[0, 10, 30, 60, 80], labels=['(0, 10)', '(10, 30)', '(30, 60)', '(60, 80)'])\n",
    "\n",
    "# Add the age category column to the DataFrame\n",
    "df['age_category'] = age_categories\n",
    "\n",
    "# Partition the fare column into 2 categories\n",
    "fare_categories = pd.cut(df['fare'], bins=2, labels=['Low Fare', 'High Fare'])\n",
    "\n",
    "# Add the fare category column to the DataFrame\n",
    "df['fare_category'] = fare_categories\n",
    "\n",
    "# Create a pivot table to find survival rate by gender, age, and fare categories of various classes\n",
    "pivot_table = df.pivot_table(index=['sex', 'age_category'], columns=['class', 'fare_category'], values='survived', aggfunc='mean')\n",
    "\n",
    "print(\"Survival rate by gender, age, and fare categories of different classes:\")\n",
    "print(pivot_table)\n"
   ]
  },
  {
   "cell_type": "code",
   "execution_count": null,
   "id": "871b4806",
   "metadata": {},
   "outputs": [],
   "source": []
  }
 ],
 "metadata": {
  "kernelspec": {
   "display_name": "Python 3 (ipykernel)",
   "language": "python",
   "name": "python3"
  },
  "language_info": {
   "codemirror_mode": {
    "name": "ipython",
    "version": 3
   },
   "file_extension": ".py",
   "mimetype": "text/x-python",
   "name": "python",
   "nbconvert_exporter": "python",
   "pygments_lexer": "ipython3",
   "version": "3.11.5"
  }
 },
 "nbformat": 4,
 "nbformat_minor": 5
}
